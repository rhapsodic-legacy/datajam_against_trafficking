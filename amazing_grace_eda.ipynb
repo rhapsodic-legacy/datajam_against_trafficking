{
 "cells": [
  {
   "cell_type": "markdown",
   "metadata": {},
   "source": [
    "### Team Amazing Grace"
   ]
  },
  {
   "cell_type": "markdown",
   "metadata": {},
   "source": [
    "#### Analysis of account transations from 'X' Bank. "
   ]
  },
  {
   "cell_type": "code",
   "execution_count": 32,
   "metadata": {},
   "outputs": [],
   "source": [
    "# Import Pandas, our tool for creating a datafrom from the comma separated values file\n",
    "import pandas as pd\n",
    "# Import Matplotlib, our tool for creating visual tools for analyzing the data within the dataframe\n",
    "import matplotlib.pyplot as plt\n",
    "\n",
    "%matplotlib inline"
   ]
  },
  {
   "cell_type": "code",
   "execution_count": 5,
   "metadata": {},
   "outputs": [],
   "source": [
    "# Load the data into a dataframe \n",
    "data = pd.read_csv('transactions.csv')"
   ]
  },
  {
   "cell_type": "code",
   "execution_count": 259,
   "metadata": {},
   "outputs": [
    {
     "data": {
      "text/html": [
       "<div>\n",
       "<style scoped>\n",
       "    .dataframe tbody tr th:only-of-type {\n",
       "        vertical-align: middle;\n",
       "    }\n",
       "\n",
       "    .dataframe tbody tr th {\n",
       "        vertical-align: top;\n",
       "    }\n",
       "\n",
       "    .dataframe thead th {\n",
       "        text-align: right;\n",
       "    }\n",
       "</style>\n",
       "<table border=\"1\" class=\"dataframe\">\n",
       "  <thead>\n",
       "    <tr style=\"text-align: right;\">\n",
       "      <th></th>\n",
       "      <th>client_id</th>\n",
       "      <th>amount</th>\n",
       "      <th>date</th>\n",
       "      <th>time</th>\n",
       "    </tr>\n",
       "  </thead>\n",
       "  <tbody>\n",
       "    <tr>\n",
       "      <th>0</th>\n",
       "      <td>986</td>\n",
       "      <td>486.0</td>\n",
       "      <td>6/10/2020</td>\n",
       "      <td>23:47</td>\n",
       "    </tr>\n",
       "    <tr>\n",
       "      <th>1</th>\n",
       "      <td>992</td>\n",
       "      <td>802.0</td>\n",
       "      <td>12/26/2020</td>\n",
       "      <td>22:28</td>\n",
       "    </tr>\n",
       "    <tr>\n",
       "      <th>2</th>\n",
       "      <td>991</td>\n",
       "      <td>461.0</td>\n",
       "      <td>8/19/2020</td>\n",
       "      <td>22:02</td>\n",
       "    </tr>\n",
       "    <tr>\n",
       "      <th>3</th>\n",
       "      <td>987</td>\n",
       "      <td>488.0</td>\n",
       "      <td>8/3/2020</td>\n",
       "      <td>22:44</td>\n",
       "    </tr>\n",
       "    <tr>\n",
       "      <th>4</th>\n",
       "      <td>991</td>\n",
       "      <td>438.0</td>\n",
       "      <td>5/27/2020</td>\n",
       "      <td>23:58</td>\n",
       "    </tr>\n",
       "    <tr>\n",
       "      <th>...</th>\n",
       "      <td>...</td>\n",
       "      <td>...</td>\n",
       "      <td>...</td>\n",
       "      <td>...</td>\n",
       "    </tr>\n",
       "    <tr>\n",
       "      <th>33618</th>\n",
       "      <td>85</td>\n",
       "      <td>-1893.0</td>\n",
       "      <td>7/10/2020</td>\n",
       "      <td>8:19</td>\n",
       "    </tr>\n",
       "    <tr>\n",
       "      <th>33619</th>\n",
       "      <td>663</td>\n",
       "      <td>-1557.0</td>\n",
       "      <td>9/13/2020</td>\n",
       "      <td>20:34</td>\n",
       "    </tr>\n",
       "    <tr>\n",
       "      <th>33620</th>\n",
       "      <td>626</td>\n",
       "      <td>-1451.0</td>\n",
       "      <td>4/12/2020</td>\n",
       "      <td>11:49</td>\n",
       "    </tr>\n",
       "    <tr>\n",
       "      <th>33621</th>\n",
       "      <td>685</td>\n",
       "      <td>-1852.0</td>\n",
       "      <td>6/22/2020</td>\n",
       "      <td>19:01</td>\n",
       "    </tr>\n",
       "    <tr>\n",
       "      <th>33622</th>\n",
       "      <td>216</td>\n",
       "      <td>-1177.0</td>\n",
       "      <td>12/29/2020</td>\n",
       "      <td>5:03</td>\n",
       "    </tr>\n",
       "  </tbody>\n",
       "</table>\n",
       "<p>33623 rows × 4 columns</p>\n",
       "</div>"
      ],
      "text/plain": [
       "       client_id  amount        date   time\n",
       "0            986   486.0   6/10/2020  23:47\n",
       "1            992   802.0  12/26/2020  22:28\n",
       "2            991   461.0   8/19/2020  22:02\n",
       "3            987   488.0    8/3/2020  22:44\n",
       "4            991   438.0   5/27/2020  23:58\n",
       "...          ...     ...         ...    ...\n",
       "33618         85 -1893.0   7/10/2020   8:19\n",
       "33619        663 -1557.0   9/13/2020  20:34\n",
       "33620        626 -1451.0   4/12/2020  11:49\n",
       "33621        685 -1852.0   6/22/2020  19:01\n",
       "33622        216 -1177.0  12/29/2020   5:03\n",
       "\n",
       "[33623 rows x 4 columns]"
      ]
     },
     "execution_count": 259,
     "metadata": {},
     "output_type": "execute_result"
    }
   ],
   "source": [
    "data"
   ]
  },
  {
   "cell_type": "code",
   "execution_count": 7,
   "metadata": {},
   "outputs": [
    {
     "data": {
      "text/plain": [
       "Unnamed: 0    0\n",
       "client_id     0\n",
       "amount        0\n",
       "date          0\n",
       "time          0\n",
       "dtype: int64"
      ]
     },
     "execution_count": 7,
     "metadata": {},
     "output_type": "execute_result"
    }
   ],
   "source": [
    "# Observe how many null spaces there are\n",
    "data.isnull().sum()"
   ]
  },
  {
   "cell_type": "code",
   "execution_count": 262,
   "metadata": {},
   "outputs": [
    {
     "data": {
      "text/plain": [
       "client_id    33623\n",
       "amount       33623\n",
       "date         33623\n",
       "time         33623\n",
       "dtype: int64"
      ]
     },
     "execution_count": 262,
     "metadata": {},
     "output_type": "execute_result"
    }
   ],
   "source": [
    "# Observe how many missing values there are\n",
    "data.count()"
   ]
  },
  {
   "cell_type": "code",
   "execution_count": 17,
   "metadata": {},
   "outputs": [],
   "source": [
    "# Drop the strange column that appears to be an artifact of the list creation\n",
    "data = data.drop('Unnamed: 0', axis=1)"
   ]
  },
  {
   "cell_type": "code",
   "execution_count": 20,
   "metadata": {},
   "outputs": [
    {
     "data": {
      "text/html": [
       "<div>\n",
       "<style scoped>\n",
       "    .dataframe tbody tr th:only-of-type {\n",
       "        vertical-align: middle;\n",
       "    }\n",
       "\n",
       "    .dataframe tbody tr th {\n",
       "        vertical-align: top;\n",
       "    }\n",
       "\n",
       "    .dataframe thead th {\n",
       "        text-align: right;\n",
       "    }\n",
       "</style>\n",
       "<table border=\"1\" class=\"dataframe\">\n",
       "  <thead>\n",
       "    <tr style=\"text-align: right;\">\n",
       "      <th></th>\n",
       "      <th>client_id</th>\n",
       "      <th>amount</th>\n",
       "      <th>date</th>\n",
       "      <th>time</th>\n",
       "    </tr>\n",
       "  </thead>\n",
       "  <tbody>\n",
       "    <tr>\n",
       "      <th>33618</th>\n",
       "      <td>85</td>\n",
       "      <td>-1893.0</td>\n",
       "      <td>7/10/2020</td>\n",
       "      <td>8:19</td>\n",
       "    </tr>\n",
       "    <tr>\n",
       "      <th>33619</th>\n",
       "      <td>663</td>\n",
       "      <td>-1557.0</td>\n",
       "      <td>9/13/2020</td>\n",
       "      <td>20:34</td>\n",
       "    </tr>\n",
       "    <tr>\n",
       "      <th>33620</th>\n",
       "      <td>626</td>\n",
       "      <td>-1451.0</td>\n",
       "      <td>4/12/2020</td>\n",
       "      <td>11:49</td>\n",
       "    </tr>\n",
       "    <tr>\n",
       "      <th>33621</th>\n",
       "      <td>685</td>\n",
       "      <td>-1852.0</td>\n",
       "      <td>6/22/2020</td>\n",
       "      <td>19:01</td>\n",
       "    </tr>\n",
       "    <tr>\n",
       "      <th>33622</th>\n",
       "      <td>216</td>\n",
       "      <td>-1177.0</td>\n",
       "      <td>12/29/2020</td>\n",
       "      <td>5:03</td>\n",
       "    </tr>\n",
       "  </tbody>\n",
       "</table>\n",
       "</div>"
      ],
      "text/plain": [
       "       client_id  amount        date   time\n",
       "33618         85 -1893.0   7/10/2020   8:19\n",
       "33619        663 -1557.0   9/13/2020  20:34\n",
       "33620        626 -1451.0   4/12/2020  11:49\n",
       "33621        685 -1852.0   6/22/2020  19:01\n",
       "33622        216 -1177.0  12/29/2020   5:03"
      ]
     },
     "execution_count": 20,
     "metadata": {},
     "output_type": "execute_result"
    }
   ],
   "source": [
    "data.tail()"
   ]
  },
  {
   "cell_type": "code",
   "execution_count": 263,
   "metadata": {},
   "outputs": [],
   "source": [
    "# I'm dealing with a very small dataset, so I can perform initial EDA on the whole set instead of stochastically. "
   ]
  },
  {
   "cell_type": "code",
   "execution_count": 29,
   "metadata": {},
   "outputs": [
    {
     "data": {
      "text/html": [
       "<div>\n",
       "<style scoped>\n",
       "    .dataframe tbody tr th:only-of-type {\n",
       "        vertical-align: middle;\n",
       "    }\n",
       "\n",
       "    .dataframe tbody tr th {\n",
       "        vertical-align: top;\n",
       "    }\n",
       "\n",
       "    .dataframe thead th {\n",
       "        text-align: right;\n",
       "    }\n",
       "</style>\n",
       "<table border=\"1\" class=\"dataframe\">\n",
       "  <thead>\n",
       "    <tr style=\"text-align: right;\">\n",
       "      <th></th>\n",
       "      <th>amount</th>\n",
       "    </tr>\n",
       "    <tr>\n",
       "      <th>client_id</th>\n",
       "      <th></th>\n",
       "    </tr>\n",
       "  </thead>\n",
       "  <tbody>\n",
       "    <tr>\n",
       "      <th>1</th>\n",
       "      <td>-3844.30</td>\n",
       "    </tr>\n",
       "    <tr>\n",
       "      <th>2</th>\n",
       "      <td>888.46</td>\n",
       "    </tr>\n",
       "    <tr>\n",
       "      <th>3</th>\n",
       "      <td>3831.77</td>\n",
       "    </tr>\n",
       "    <tr>\n",
       "      <th>4</th>\n",
       "      <td>295.82</td>\n",
       "    </tr>\n",
       "    <tr>\n",
       "      <th>5</th>\n",
       "      <td>976.92</td>\n",
       "    </tr>\n",
       "    <tr>\n",
       "      <th>...</th>\n",
       "      <td>...</td>\n",
       "    </tr>\n",
       "    <tr>\n",
       "      <th>995</th>\n",
       "      <td>-1332.00</td>\n",
       "    </tr>\n",
       "    <tr>\n",
       "      <th>996</th>\n",
       "      <td>-6000.00</td>\n",
       "    </tr>\n",
       "    <tr>\n",
       "      <th>997</th>\n",
       "      <td>-11500.00</td>\n",
       "    </tr>\n",
       "    <tr>\n",
       "      <th>998</th>\n",
       "      <td>17500.00</td>\n",
       "    </tr>\n",
       "    <tr>\n",
       "      <th>999</th>\n",
       "      <td>127024.00</td>\n",
       "    </tr>\n",
       "  </tbody>\n",
       "</table>\n",
       "<p>998 rows × 1 columns</p>\n",
       "</div>"
      ],
      "text/plain": [
       "              amount\n",
       "client_id           \n",
       "1           -3844.30\n",
       "2             888.46\n",
       "3            3831.77\n",
       "4             295.82\n",
       "5             976.92\n",
       "...              ...\n",
       "995         -1332.00\n",
       "996         -6000.00\n",
       "997        -11500.00\n",
       "998         17500.00\n",
       "999        127024.00\n",
       "\n",
       "[998 rows x 1 columns]"
      ]
     },
     "execution_count": 29,
     "metadata": {},
     "output_type": "execute_result"
    }
   ],
   "source": [
    "# First EDA, observe net dollars, summing everything sent and received from each of the accounts. \n",
    "sums = data.groupby('client_id').sum()\n",
    "sums"
   ]
  },
  {
   "cell_type": "code",
   "execution_count": 40,
   "metadata": {},
   "outputs": [
    {
     "name": "stdout",
     "output_type": "stream",
     "text": [
      "Amount mean:  39.29210420841691 Minimum:  -18097.18 Maximum  127024.0\n"
     ]
    }
   ],
   "source": [
    "# Observe basic facts amount net sums per account. \n",
    "mean = sums.amount.mean()\n",
    "minimum = sums.amount.min()\n",
    "maximum = sums.amount.max()\n",
    "print(\"Amount mean: \", mean, \"Minimum: \", minimum, \"Maximum \", maximum)"
   ]
  },
  {
   "cell_type": "code",
   "execution_count": 36,
   "metadata": {},
   "outputs": [],
   "source": [
    "# Create a plot to observe any outliers\n",
    "a = sums.index\n",
    "b = sums['amount']"
   ]
  },
  {
   "cell_type": "code",
   "execution_count": 50,
   "metadata": {},
   "outputs": [
    {
     "data": {
      "text/plain": [
       "<matplotlib.collections.PathCollection at 0x7f8ece3df8b0>"
      ]
     },
     "execution_count": 50,
     "metadata": {},
     "output_type": "execute_result"
    },
    {
     "data": {
      "image/png": "[encoded data removed]",
      "text/plain": [
       "<Figure size 432x288 with 1 Axes>"
      ]
     },
     "metadata": {
      "needs_background": "light"
     },
     "output_type": "display_data"
    }
   ],
   "source": [
    "plt.scatter(a,b)\n"
   ]
  },
  {
   "cell_type": "markdown",
   "metadata": {},
   "source": [
    "##### There is one massive positive outlier, as well as several positive and negative outliers. \n",
    "##### Before performing deeply nuanced EDA to deduce patterns in the data, for instance heavy feature selection and a colour heat map, client_id 999 is such an extreme outlier that it will need to be eliminated so that it does not throw off statistics. Thus, client_id 999 is worth further investigation to first determine if it is possibly a suspicious account. "
   ]
  },
  {
   "cell_type": "code",
   "execution_count": 264,
   "metadata": {},
   "outputs": [
    {
     "data": {
      "text/html": [
       "<div>\n",
       "<style scoped>\n",
       "    .dataframe tbody tr th:only-of-type {\n",
       "        vertical-align: middle;\n",
       "    }\n",
       "\n",
       "    .dataframe tbody tr th {\n",
       "        vertical-align: top;\n",
       "    }\n",
       "\n",
       "    .dataframe thead th {\n",
       "        text-align: right;\n",
       "    }\n",
       "</style>\n",
       "<table border=\"1\" class=\"dataframe\">\n",
       "  <thead>\n",
       "    <tr style=\"text-align: right;\">\n",
       "      <th></th>\n",
       "      <th>client_id</th>\n",
       "      <th>amount</th>\n",
       "      <th>date</th>\n",
       "      <th>time</th>\n",
       "    </tr>\n",
       "  </thead>\n",
       "  <tbody>\n",
       "    <tr>\n",
       "      <th>4000</th>\n",
       "      <td>999</td>\n",
       "      <td>500.0</td>\n",
       "      <td>12/10/2020</td>\n",
       "      <td>10:23</td>\n",
       "    </tr>\n",
       "    <tr>\n",
       "      <th>4001</th>\n",
       "      <td>999</td>\n",
       "      <td>500.0</td>\n",
       "      <td>9/24/2020</td>\n",
       "      <td>15:48</td>\n",
       "    </tr>\n",
       "    <tr>\n",
       "      <th>4002</th>\n",
       "      <td>999</td>\n",
       "      <td>500.0</td>\n",
       "      <td>6/9/2020</td>\n",
       "      <td>8:47</td>\n",
       "    </tr>\n",
       "    <tr>\n",
       "      <th>4003</th>\n",
       "      <td>999</td>\n",
       "      <td>500.0</td>\n",
       "      <td>7/17/2020</td>\n",
       "      <td>23:15</td>\n",
       "    </tr>\n",
       "    <tr>\n",
       "      <th>4004</th>\n",
       "      <td>999</td>\n",
       "      <td>500.0</td>\n",
       "      <td>4/21/2020</td>\n",
       "      <td>17:52</td>\n",
       "    </tr>\n",
       "    <tr>\n",
       "      <th>...</th>\n",
       "      <td>...</td>\n",
       "      <td>...</td>\n",
       "      <td>...</td>\n",
       "      <td>...</td>\n",
       "    </tr>\n",
       "    <tr>\n",
       "      <th>4995</th>\n",
       "      <td>999</td>\n",
       "      <td>500.0</td>\n",
       "      <td>1/24/2020</td>\n",
       "      <td>7:30</td>\n",
       "    </tr>\n",
       "    <tr>\n",
       "      <th>4996</th>\n",
       "      <td>999</td>\n",
       "      <td>500.0</td>\n",
       "      <td>11/28/2020</td>\n",
       "      <td>15:44</td>\n",
       "    </tr>\n",
       "    <tr>\n",
       "      <th>4997</th>\n",
       "      <td>999</td>\n",
       "      <td>500.0</td>\n",
       "      <td>11/3/2020</td>\n",
       "      <td>22:59</td>\n",
       "    </tr>\n",
       "    <tr>\n",
       "      <th>4998</th>\n",
       "      <td>999</td>\n",
       "      <td>500.0</td>\n",
       "      <td>7/18/2020</td>\n",
       "      <td>11:47</td>\n",
       "    </tr>\n",
       "    <tr>\n",
       "      <th>4999</th>\n",
       "      <td>999</td>\n",
       "      <td>500.0</td>\n",
       "      <td>2/4/2020</td>\n",
       "      <td>11:09</td>\n",
       "    </tr>\n",
       "  </tbody>\n",
       "</table>\n",
       "<p>1000 rows × 4 columns</p>\n",
       "</div>"
      ],
      "text/plain": [
       "      client_id  amount        date   time\n",
       "4000        999   500.0  12/10/2020  10:23\n",
       "4001        999   500.0   9/24/2020  15:48\n",
       "4002        999   500.0    6/9/2020   8:47\n",
       "4003        999   500.0   7/17/2020  23:15\n",
       "4004        999   500.0   4/21/2020  17:52\n",
       "...         ...     ...         ...    ...\n",
       "4995        999   500.0   1/24/2020   7:30\n",
       "4996        999   500.0  11/28/2020  15:44\n",
       "4997        999   500.0   11/3/2020  22:59\n",
       "4998        999   500.0   7/18/2020  11:47\n",
       "4999        999   500.0    2/4/2020  11:09\n",
       "\n",
       "[1000 rows x 4 columns]"
      ]
     },
     "execution_count": 264,
     "metadata": {},
     "output_type": "execute_result"
    }
   ],
   "source": [
    "# The first EDA is to observe 999's deposits/ income. Is there any outright observable pattern?\n",
    "# As user_id's \"amount\" column relates to money, this column will be split into positive and negative. All money that comes in, versus money that goes out. \n",
    "earnings_999 = data[(data.client_id == 999) & (data.amount > 0)]\n",
    "earnings_999"
   ]
  },
  {
   "cell_type": "code",
   "execution_count": 265,
   "metadata": {},
   "outputs": [
    {
     "name": "stdout",
     "output_type": "stream",
     "text": [
      "Client '999' deposits. Mean: 500.0  Max: 500.0  Min: 500.0\n"
     ]
    }
   ],
   "source": [
    "# Just by casual witness, client_id 999's deposits seem to be utterly distinct. To explore this further...\n",
    "mean_999 = earnings_999.amount.mean()\n",
    "max_999 = earnings_999.amount.max()\n",
    "min_999 = earnings_999.amount.min()\n",
    "print(\"Client '999' deposits. Mean:\", mean_999, \" Max:\", max_999, \" Min:\", min_999)"
   ]
  },
  {
   "cell_type": "code",
   "execution_count": 69,
   "metadata": {},
   "outputs": [
    {
     "data": {
      "text/html": [
       "<div>\n",
       "<style scoped>\n",
       "    .dataframe tbody tr th:only-of-type {\n",
       "        vertical-align: middle;\n",
       "    }\n",
       "\n",
       "    .dataframe tbody tr th {\n",
       "        vertical-align: top;\n",
       "    }\n",
       "\n",
       "    .dataframe thead th {\n",
       "        text-align: right;\n",
       "    }\n",
       "</style>\n",
       "<table border=\"1\" class=\"dataframe\">\n",
       "  <thead>\n",
       "    <tr style=\"text-align: right;\">\n",
       "      <th></th>\n",
       "      <th>client_id</th>\n",
       "      <th>amount</th>\n",
       "      <th>date</th>\n",
       "      <th>time</th>\n",
       "    </tr>\n",
       "  </thead>\n",
       "  <tbody>\n",
       "    <tr>\n",
       "      <th>6113</th>\n",
       "      <td>999</td>\n",
       "      <td>-1034.0</td>\n",
       "      <td>11/5/2020</td>\n",
       "      <td>7:05</td>\n",
       "    </tr>\n",
       "    <tr>\n",
       "      <th>6114</th>\n",
       "      <td>999</td>\n",
       "      <td>-214.0</td>\n",
       "      <td>8/6/2020</td>\n",
       "      <td>12:15</td>\n",
       "    </tr>\n",
       "    <tr>\n",
       "      <th>6115</th>\n",
       "      <td>999</td>\n",
       "      <td>-544.0</td>\n",
       "      <td>11/6/2020</td>\n",
       "      <td>2:59</td>\n",
       "    </tr>\n",
       "    <tr>\n",
       "      <th>6116</th>\n",
       "      <td>999</td>\n",
       "      <td>-2467.0</td>\n",
       "      <td>12/10/2020</td>\n",
       "      <td>0:11</td>\n",
       "    </tr>\n",
       "    <tr>\n",
       "      <th>6117</th>\n",
       "      <td>999</td>\n",
       "      <td>-1260.0</td>\n",
       "      <td>3/3/2020</td>\n",
       "      <td>15:04</td>\n",
       "    </tr>\n",
       "    <tr>\n",
       "      <th>6118</th>\n",
       "      <td>999</td>\n",
       "      <td>-2908.0</td>\n",
       "      <td>7/24/2020</td>\n",
       "      <td>4:46</td>\n",
       "    </tr>\n",
       "    <tr>\n",
       "      <th>6119</th>\n",
       "      <td>999</td>\n",
       "      <td>-2846.0</td>\n",
       "      <td>4/16/2020</td>\n",
       "      <td>22:58</td>\n",
       "    </tr>\n",
       "    <tr>\n",
       "      <th>6120</th>\n",
       "      <td>999</td>\n",
       "      <td>-1108.0</td>\n",
       "      <td>3/8/2020</td>\n",
       "      <td>8:33</td>\n",
       "    </tr>\n",
       "    <tr>\n",
       "      <th>6121</th>\n",
       "      <td>999</td>\n",
       "      <td>-4974.0</td>\n",
       "      <td>5/3/2020</td>\n",
       "      <td>1:15</td>\n",
       "    </tr>\n",
       "    <tr>\n",
       "      <th>6122</th>\n",
       "      <td>999</td>\n",
       "      <td>-3067.0</td>\n",
       "      <td>1/18/2020</td>\n",
       "      <td>11:25</td>\n",
       "    </tr>\n",
       "  </tbody>\n",
       "</table>\n",
       "</div>"
      ],
      "text/plain": [
       "      client_id  amount        date   time\n",
       "6113        999 -1034.0   11/5/2020   7:05\n",
       "6114        999  -214.0    8/6/2020  12:15\n",
       "6115        999  -544.0   11/6/2020   2:59\n",
       "6116        999 -2467.0  12/10/2020   0:11\n",
       "6117        999 -1260.0    3/3/2020  15:04\n",
       "6118        999 -2908.0   7/24/2020   4:46\n",
       "6119        999 -2846.0   4/16/2020  22:58\n",
       "6120        999 -1108.0    3/8/2020   8:33\n",
       "6121        999 -4974.0    5/3/2020   1:15\n",
       "6122        999 -3067.0   1/18/2020  11:25"
      ]
     },
     "execution_count": 69,
     "metadata": {},
     "output_type": "execute_result"
    }
   ],
   "source": [
    "# All of user_id 999's deposits from every source is 500$. \n",
    "# Second EDA is to observe 999's withdrawals/ transfers. \n",
    "expenses_999 = data[(data.client_id == 999) & (data.amount < 0)]\n",
    "expenses_999.tail(10)"
   ]
  },
  {
   "cell_type": "code",
   "execution_count": 268,
   "metadata": {},
   "outputs": [
    {
     "name": "stdout",
     "output_type": "stream",
     "text": [
      "Client '999' withdrawals. Mean: -334.8078994614004  Max: -1.0  Min: -4988.0\n",
      "Total number of transactions:  2123\n"
     ]
    }
   ],
   "source": [
    "mean_x_999 = expenses_999.amount.mean()\n",
    "max_x_999 = expenses_999.amount.max()\n",
    "min_x_999 = expenses_999.amount.min()\n",
    "print(\"Client '999' withdrawals. Mean:\", mean_x_999, \" Max:\", max_x_999, \" Min:\", min_x_999)\n",
    "print(\"Total number of transactions: \", data['amount'][data.client_id == 999].count())"
   ]
  },
  {
   "cell_type": "markdown",
   "metadata": {},
   "source": [
    "##### user_id 999 is definitely an anomaly, very likely a corporate entity and not a single human due to gross volume and magnitude of activity. \n",
    "##### Five hundred dollars could be the net income earned from a product or service being sold. For instance, if user_id 999 is the owner of a car lot, then he/she earns 500 dollars everytime a car is sold. "
   ]
  },
  {
   "cell_type": "code",
   "execution_count": 269,
   "metadata": {},
   "outputs": [
    {
     "data": {
      "text/plain": [
       "array([989, 992, 987, 995, 988, 994, 986, 990, 993, 991, 996, 997, 998])"
      ]
     },
     "execution_count": 269,
     "metadata": {},
     "output_type": "execute_result"
    }
   ],
   "source": [
    "# If '999' is depositing 500$ repeatedly, are there other accounts with 500$ withdrawals; which could be transfers.\n",
    "five_hundred = data['client_id'][data['amount'] == -500].unique()\n",
    "five_hundred"
   ]
  },
  {
   "cell_type": "code",
   "execution_count": null,
   "metadata": {},
   "outputs": [],
   "source": []
  },
  {
   "cell_type": "code",
   "execution_count": 177,
   "metadata": {},
   "outputs": [
    {
     "name": "stdout",
     "output_type": "stream",
     "text": [
      "989 -48500.0\n",
      "992 -49500.0\n",
      "987 -44500.0\n",
      "995 -51000.0\n",
      "988 -52000.0\n",
      "994 -50500.0\n",
      "986 -57000.0\n",
      "990 -47000.0\n",
      "993 -45000.0\n",
      "991 -55000.0\n",
      "996 -162500.0\n",
      "997 -174500.0\n",
      "998 -163000.0\n"
     ]
    }
   ],
   "source": [
    "# A deposit or withdrawal of 500$ is not by itself anything irregular. Now to determine who, if any, has a preponderance for depositing this amount. \n",
    "for i in five_hundred:\n",
    "    print(i, data['amount'][(data.client_id == i) & (data.amount == -500)].sum())"
   ]
  },
  {
   "cell_type": "code",
   "execution_count": 181,
   "metadata": {},
   "outputs": [
    {
     "name": "stdout",
     "output_type": "stream",
     "text": [
      "[-500.]\n",
      "[-500.]\n",
      "[-500.]\n",
      "[-500.]\n",
      "[-500.]\n",
      "[-500.]\n",
      "[-500.]\n",
      "[-500.]\n",
      "[-500.]\n",
      "[-500.]\n",
      "[-500.]\n",
      "[-500.]\n",
      "[-500.]\n"
     ]
    }
   ],
   "source": [
    "# Quite strangely, there are a group of individuals who all withdrew 500$ repeatedly. Further observation of each individual account necessary. \n",
    "for i in five_hundred:\n",
    "    print(data[(data['client_id'] == i) & (data.amount < 0)]['amount'].unique())"
   ]
  },
  {
   "cell_type": "code",
   "execution_count": 187,
   "metadata": {},
   "outputs": [
    {
     "name": "stdout",
     "output_type": "stream",
     "text": [
      "[724. 824. 244. 837. 334. 787. 912. 631. 519. 317. 718. 238. 464. 471.\n",
      " 812. 798. 495. 323. 474. 461. 845. 505. 608. 533. 995. 546. 989. 412.\n",
      " 463. 336. 903. 565. 752. 388. 224. 693. 918. 854. 304. 988. 958. 835.\n",
      " 610. 652. 601. 779. 957. 632. 547. 683. 754. 275. 433. 254. 425. 360.\n",
      " 847. 682. 997. 437. 273. 305. 408. 404. 213. 397. 784. 846. 872. 475.\n",
      " 378. 726. 952. 946. 382. 967. 252. 384. 810. 289. 763. 698. 966. 743.\n",
      " 914. 725. 386. 863. 277. 466. 788. 759. 679.]\n",
      "[ 802.  477.  282.  446. 1000.  222.  324.  328.  265.  487.  695.  805.\n",
      "  968.  334.  561.  414.  355.  578.  838.  865.  407.  668.  837.  666.\n",
      "  816.  471.  722.  257.  759.  398.  201.  449.  420.  730.  850.  472.\n",
      "  893.  415.  457.  340.  820.  483.  217.  533.  224.  645.  769.  528.\n",
      "  913.  399.  427.  878.  926.  696.  374.  548.  641.  530.  610.  672.\n",
      "  776.  986.  912.  453.  810.  502.  935.  987.  763.  966.  358.  617.\n",
      "  694.  237.  572.  799.  746.  441.  989.  658.  211.]\n",
      "[488. 411. 484. 878. 597. 596. 674. 906. 740. 730. 449. 576. 885. 499.\n",
      " 500. 737. 290. 591. 850. 993. 782. 309. 354. 604. 278. 466. 838. 254.\n",
      " 589. 786. 934. 359. 649. 559. 768. 450. 736. 987. 291. 970. 365. 685.\n",
      " 948. 200. 706. 855. 818. 808. 420. 209. 856. 658. 583. 288. 438. 839.\n",
      " 893. 341. 687. 711. 555. 981. 750. 734. 998. 530. 285. 207. 851. 373.\n",
      " 229. 745. 358. 550. 490. 810. 574. 979. 661. 864. 765. 656. 870. 671.\n",
      " 442. 801. 916. 495. 886. 556. 729. 527. 531. 804. 834. 892. 930. 464.\n",
      " 641. 405. 284. 986.]\n",
      "[330. 957. 430. 764. 762. 216. 338. 944. 977. 843. 479. 560. 204. 543.\n",
      " 612. 519. 416. 929. 357. 324. 877. 437. 786. 254. 281. 554. 618. 675.\n",
      " 385. 653. 912. 792. 505. 967. 322. 438. 546. 598. 302. 376. 613. 770.\n",
      " 638. 482. 341. 407. 880. 661. 924. 671. 269. 397. 374. 469. 275. 267.\n",
      " 847. 896. 323. 689. 215. 304. 863. 555. 259. 950. 590. 504. 780. 313.\n",
      " 446. 523. 210. 812. 996. 240. 814. 252. 535. 263. 735. 636. 578. 292.\n",
      " 837.]\n",
      "[478. 430. 249. 755. 611. 267. 376. 488. 552. 718. 415. 433. 312. 482.\n",
      " 690. 885. 866. 273. 427. 644. 976. 592. 981. 669. 313. 545. 474. 927.\n",
      " 776. 784. 782. 486. 211. 396. 777. 297. 504. 508. 298. 387. 456. 961.\n",
      " 898. 280. 743. 241. 671. 640. 266. 638. 469. 758. 963. 471. 931. 588.\n",
      " 922. 854. 896. 704. 207. 893. 871. 877. 263. 467. 619. 856. 823. 397.\n",
      " 246. 641. 538. 629. 956. 501. 691. 331. 911. 983. 413. 810. 778. 726.\n",
      " 239. 723. 774. 783. 912. 869. 908. 695. 498.]\n",
      "[ 984.  987.  388.  321.  222.  248.  529.  725.  216.  645.  378.  554.\n",
      "  822.  548.  930.  680.  273.  768.  838.  687.  264.  299.  973.  574.\n",
      "  502.  513.  805.  837.  999.  594.  647. 1000.  696.  821.  797.  841.\n",
      "  417.  508.  750.  660.  650.  464.  492.  778.  477.  710.  398.  448.\n",
      "  742.  358.  457.  542.  638.  916.  922.  874.  911.  908.  740.  749.\n",
      "  237.  879.  707.  943.  705.  751.  777.  505.  365.  860.  447.  438.\n",
      "  720.  566.  413.  914.  223.  899.  454.  924.  396.  892.  994.  235.\n",
      "  886.  872.  643.  537.  410.  533.  925.  850.  714.  550.]\n",
      "[486. 523. 878. 651. 432. 532. 401. 731. 948. 598. 978. 260. 208. 748.\n",
      " 702. 478. 631. 329. 877. 824. 436. 927. 974. 939. 549. 225. 391. 339.\n",
      " 757. 474. 924. 999. 863. 678. 797. 233. 732. 446. 559. 323. 830. 218.\n",
      " 782. 669. 412. 886. 745. 581. 489. 273. 582. 618. 278. 382. 242. 799.\n",
      " 989. 246. 310. 715. 397. 513. 875. 779. 254. 286. 814. 359. 230. 459.\n",
      " 808. 899. 883. 944. 885. 431. 422. 456. 398. 834. 801. 708. 488. 250.\n",
      " 403. 706. 562. 807. 423. 668. 267. 590. 617. 594. 604. 595. 764. 574.\n",
      " 363. 389. 411. 592. 270. 593.]\n",
      "[271. 995. 207. 325. 359. 453. 947. 552. 581. 745. 528. 911. 382. 903.\n",
      " 642. 882. 897. 999. 511. 537. 650. 305. 326. 586. 670. 379. 807. 925.\n",
      " 840. 472. 798. 909. 278. 689. 890. 405. 596. 456. 713. 922. 519. 833.\n",
      " 487. 892. 704. 994. 871. 492. 690. 678. 735. 948. 374. 556. 914. 977.\n",
      " 825. 931. 822. 534. 455. 348. 663. 880. 447. 841. 532. 622. 422. 801.\n",
      " 434. 425. 949. 473. 530. 725. 200. 872. 338. 505. 592. 302. 558. 377.\n",
      " 296. 234. 572. 881. 748. 753. 877. 946. 312. 965. 637. 826. 438. 958.\n",
      " 794. 383.]\n",
      "[810. 416. 582. 396. 932. 999. 552. 371. 715. 716. 761. 789. 390. 249.\n",
      " 737. 340. 907. 472. 971. 938. 316. 874. 709. 624. 877. 551. 868. 917.\n",
      " 512. 735. 242. 307. 352. 720. 216. 883. 986. 827. 646. 607. 664. 981.\n",
      " 200. 656. 931. 480. 606. 858. 830. 953. 762. 661. 351. 669. 285. 563.\n",
      " 856. 711. 591. 825. 229. 601. 625. 693. 797. 809. 205. 672. 598. 734.\n",
      " 333. 583. 328. 210. 579. 620. 337. 581. 894. 832. 507. 309. 449. 779.\n",
      " 739. 808. 382. 611. 900. 685. 347. 400. 636. 562. 459. 535. 558. 588.\n",
      " 405. 592. 754.]\n",
      "[461. 438. 603. 747. 567. 784. 665. 219. 310. 865. 557. 571. 522. 942.\n",
      " 634. 241. 823. 780. 548. 831. 803. 575. 243. 950. 527. 540. 641. 925.\n",
      " 238. 849. 266. 468. 500. 337. 960. 288. 454. 210. 259. 991. 932. 580.\n",
      " 293. 835. 922. 311. 592. 477. 505. 545. 914. 924. 427. 918. 301. 713.\n",
      " 578. 721. 395. 802. 980. 376. 263. 908. 552. 898. 296. 407. 965. 430.\n",
      " 894. 445. 828. 415. 742. 563. 628. 826. 300. 769. 936. 891. 853. 440.\n",
      " 537. 850.]\n",
      "[500.]\n",
      "[500.]\n",
      "[500.]\n"
     ]
    }
   ],
   "source": [
    "# All accounts have only withdrew 500$. Thus none of them are personal accounts showing typical life expenses. \n",
    "# Very likely all of these accounts are interlinked, for instance all working at the same car dealership. \n",
    "# Further exploration required. \n",
    "\n",
    "for i in five_hundred:\n",
    "    print(data[(data['client_id'] == i) & (data.amount > 0)]['amount'].unique())"
   ]
  },
  {
   "cell_type": "code",
   "execution_count": 245,
   "metadata": {},
   "outputs": [],
   "source": [
    "# Thus a telling story arises. \n",
    "# Accounts 986 - 995 make deposits between (approximately) 200 and 1000, but only withdraw 500$. \n",
    "# Accounts 996, 997, 998 make deposits of 500$ and withdrawals of 500$. \n",
    "# Account 999 only deposits 500$ and withdraws a wide range of values. "
   ]
  },
  {
   "cell_type": "code",
   "execution_count": 247,
   "metadata": {},
   "outputs": [
    {
     "data": {
      "text/plain": [
       "999    2123\n",
       "998     687\n",
       "997     675\n",
       "996     638\n",
       "986     226\n",
       "994     203\n",
       "991     201\n",
       "990     201\n",
       "988     201\n",
       "987     199\n",
       "993     195\n",
       "989     194\n",
       "995     191\n",
       "992     189\n",
       "708      45\n",
       "303      44\n",
       "214      43\n",
       "344      43\n",
       "413      43\n",
       "957      43\n",
       "Name: client_id, dtype: int64"
      ]
     },
     "execution_count": 247,
     "metadata": {},
     "output_type": "execute_result"
    }
   ],
   "source": [
    "# One last piece of EDA, to further determine the anomalous nature of client_id's 985-999. \n",
    "# Observe how much activity each account has.\n",
    "data.client_id.value_counts().head(20)"
   ]
  },
  {
   "cell_type": "code",
   "execution_count": 248,
   "metadata": {},
   "outputs": [
    {
     "data": {
      "text/plain": [
       "33.690380761523045"
      ]
     },
     "execution_count": 248,
     "metadata": {},
     "output_type": "execute_result"
    }
   ],
   "source": [
    "# Another telling pattern emerges. These client_id's are especially active, relative to all other accounts. \n",
    "data.client_id.value_counts().mean()"
   ]
  },
  {
   "cell_type": "markdown",
   "metadata": {},
   "source": [
    "##### It is now extremely probably that accounts 985-999 are related to each other. 'X' Bank would know what types of deposits/ withdrawals were related the numbers associated with these transactions. Thus if they are transfers or all dealing with cash movements, these accounts have a strong chance to belong to a criminal network, possibly a human trafficking network. \n",
    "\n",
    "\n"
   ]
  },
  {
   "cell_type": "markdown",
   "metadata": {},
   "source": [
    "#### Accounts 986-999 follow, exactly, all the hallmarks of the three tiers of account holders in our hypothesis. These accounts and their patterns would be returned to the bank whence they came for official follow up. "
   ]
  },
  {
   "cell_type": "markdown",
   "metadata": {},
   "source": [
    "##### As there is little time left to polish the team's submission; no further EDA undertaken. "
   ]
  },
  {
   "cell_type": "code",
   "execution_count": null,
   "metadata": {},
   "outputs": [],
   "source": []
  },
  {
   "cell_type": "code",
   "execution_count": null,
   "metadata": {},
   "outputs": [],
   "source": []
  },
  {
   "cell_type": "code",
   "execution_count": null,
   "metadata": {},
   "outputs": [],
   "source": []
  }
 ],
 "metadata": {
  "kernelspec": {
   "display_name": "Python 3",
   "language": "python",
   "name": "python3"
  },
  "language_info": {
   "codemirror_mode": {
    "name": "ipython",
    "version": 3
   },
   "file_extension": ".py",
   "mimetype": "text/x-python",
   "name": "python",
   "nbconvert_exporter": "python",
   "pygments_lexer": "ipython3",
   "version": "3.8.5"
  }
 },
 "nbformat": 4,
 "nbformat_minor": 4
}
